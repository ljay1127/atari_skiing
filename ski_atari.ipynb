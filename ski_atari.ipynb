{
 "cells": [
  {
   "cell_type": "code",
   "execution_count": 1,
   "metadata": {},
   "outputs": [],
   "source": [
    "import gym\n",
    "import numpy as np\n",
    "from tensorflow.keras import Sequential\n",
    "from tensorflow.keras.layers import Flatten, Dense, InputLayer, Conv2D, MaxPool2D\n",
    "from PIL import Image\n",
    "import matplotlib.pyplot as plt\n",
    "from collections import deque\n",
    "import random\n",
    "from IPython.display import clear_output"
   ]
  },
  {
   "cell_type": "code",
   "execution_count": 2,
   "metadata": {},
   "outputs": [],
   "source": [
    "class DQN_Agent:\n",
    "    def __init__(self, n_of_actions):\n",
    "        self.rng = 1\n",
    "        self.rng_min = 0.1\n",
    "        self.rng_decay = 0.99\n",
    "        self.discount = 0.95\n",
    "        \n",
    "        self.n_of_actions = n_of_actions\n",
    "        \n",
    "        self.transfer_ctr = 0\n",
    "        \n",
    "        self.memory = deque(maxlen=20_000)\n",
    "        \n",
    "        self.q_eval = self.create_model()\n",
    "        self.q_target = self.create_model()\n",
    "        self.transfer_weight()\n",
    "    \n",
    "    def create_model(self):\n",
    "        model = Sequential()\n",
    "        model.add(Conv2D(16, 8, 4, activation='relu', padding='same', input_shape=(125,80,1)))\n",
    "        model.add(MaxPool2D(pool_size=4, strides=2, padding='same'))\n",
    "        model.add(Conv2D(32, 4, 2, activation='relu', padding='same'))\n",
    "        model.add(MaxPool2D(pool_size=2, strides=1, padding='same'))\n",
    "        model.add(Flatten())\n",
    "        model.add(Dense(128, activation='relu'))\n",
    "        model.add(Dense(128, activation='relu'))\n",
    "        model.add(Dense(self.n_of_actions, activation='linear'))\n",
    "        model.compile(\n",
    "            optimizer='adam',\n",
    "            loss='mean_squared_error',\n",
    "            metrics=['accuracy']\n",
    "        )\n",
    "\n",
    "        return model\n",
    "    \n",
    "    def remember(self, observation, action, reward, done, new_observation):\n",
    "        observation = self.reshape_image(observation)\n",
    "        new_observation = self.reshape_image(new_observation)\n",
    "        self.memory.append([observation, action, reward, done, new_observation])\n",
    "\n",
    "    def get_action(self, observation):\n",
    "        if random.random() < self.rng:\n",
    "            return random.randint(0, self.n_of_actions - 1)\n",
    "        else:\n",
    "            return np.argmax(self.get_qs(observation))\n",
    "        \n",
    "    def get_qs(self, observation):\n",
    "        observation = np.reshape(self.reshape_image(observation), (1, 125, 80, 1))\n",
    "        return self.q_eval.predict(observation)\n",
    "    \n",
    "    def reshape_image(self, observation):\n",
    "        img = Image.fromarray(observation)\n",
    "        img = img.resize((80, 125))\n",
    "        img = img.convert(\"L\")\n",
    "        img = np.array(img)\n",
    "        img = np.reshape(img, (125, 80, 1))\n",
    "        return img\n",
    "    \n",
    "    def save(self):\n",
    "        self.model.save('ski')\n",
    "        \n",
    "    def load(self):\n",
    "        self.model = tf.keras.models.load_model('ski')\n",
    "        self.random = 1\n",
    "\n",
    "    def train(self):\n",
    "        if len(self.memory) < 5_000:\n",
    "            return\n",
    "\n",
    "        mini_batch = random.sample(self.memory, 128)\n",
    "\n",
    "        current_states = np.array([transition[0] for transition in mini_batch])\n",
    "        current_qs = self.q_eval.predict(current_states)\n",
    "        next_states = np.array([transition[4] for transition in mini_batch])\n",
    "        next_qs = self.q_target.predict(next_states)\n",
    "\n",
    "        X = current_states\n",
    "        y =[]\n",
    "\n",
    "        for i, observation in enumerate(mini_batch):\n",
    "            _ = observation[0]\n",
    "            action = observation[1]\n",
    "            reward = observation[2]\n",
    "            done = observation[3]\n",
    "            new_state = observation[4]\n",
    "\n",
    "            if done:\n",
    "                new_q = reward\n",
    "            else:\n",
    "                new_q = reward + self.discount * np.max(next_qs[i])\n",
    "\n",
    "            qs = current_qs[i]\n",
    "            qs[action] = new_q\n",
    "            y.append(qs)\n",
    "\n",
    "        self.q_eval.fit(X, np.array(y), verbose=0, shuffle=False)\n",
    "\n",
    "        self.transfer_ctr += 1\n",
    "        if self.transfer_ctr > 10:\n",
    "            self.transfer_weight()\n",
    "            self.transfer_ctr = 0\n",
    "            \n",
    "            self.rng = self.rng * self.rng_decay\n",
    "            if self.rng < self.rng_min:\n",
    "                self.rng = self.rng_min\n",
    "                \n",
    "    def transfer_weight(self):\n",
    "        self.q_target.set_weights(self.q_eval.get_weights())"
   ]
  },
  {
   "cell_type": "code",
   "execution_count": 3,
   "metadata": {},
   "outputs": [],
   "source": [
    "n_of_episodes = 5_000"
   ]
  },
  {
   "cell_type": "code",
   "execution_count": 4,
   "metadata": {},
   "outputs": [],
   "source": [
    "env = gym.make('Skiing-v0')\n",
    "agent = DQN_Agent(3)"
   ]
  },
  {
   "cell_type": "code",
   "execution_count": null,
   "metadata": {},
   "outputs": [],
   "source": [
    "agent.load()"
   ]
  },
  {
   "cell_type": "code",
   "execution_count": null,
   "metadata": {},
   "outputs": [
    {
     "name": "stdout",
     "output_type": "stream",
     "text": [
      "Episode: 359\n",
      "Reward: -18406.0\n",
      "Randomness: 0.9\n"
     ]
    }
   ],
   "source": [
    "observation = env.reset()\n",
    "train_ctr = 0\n",
    "\n",
    "for i in range(n_of_episodes):\n",
    "    game_over = False\n",
    "    total_reward = 0\n",
    "    while not game_over:\n",
    "        #env.render()\n",
    "        #observation, reward, done, info = env.step(env.action_space.sample())\n",
    "        \n",
    "        action = agent.get_action(observation)\n",
    "        new_observation, reward, done, info = env.step(action)\n",
    "        agent.remember(observation, action, reward, done, new_observation)\n",
    "        observation = new_observation\n",
    "        \n",
    "        total_reward += reward\n",
    "        \n",
    "        train_ctr += 1\n",
    "        if train_ctr > 500:\n",
    "            agent.train()\n",
    "            train_ctr = 0\n",
    "        \n",
    "        if done:\n",
    "            agent.train()\n",
    "            game_over = True\n",
    "            clear_output(wait=True)\n",
    "            print(f'Episode: {i}')\n",
    "            print(f'Reward: {total_reward}')\n",
    "            print(f'Randomness: {agent.rng}')\n",
    "            observation = env.reset()\n",
    "    \n",
    "env.close()"
   ]
  },
  {
   "cell_type": "code",
   "execution_count": null,
   "metadata": {},
   "outputs": [],
   "source": [
    "agent.rng"
   ]
  },
  {
   "cell_type": "code",
   "execution_count": null,
   "metadata": {},
   "outputs": [],
   "source": [
    "agent.save()"
   ]
  },
  {
   "cell_type": "code",
   "execution_count": null,
   "metadata": {},
   "outputs": [],
   "source": []
  }
 ],
 "metadata": {
  "kernelspec": {
   "display_name": "Python 3",
   "language": "python",
   "name": "python3"
  },
  "language_info": {
   "codemirror_mode": {
    "name": "ipython",
    "version": 3
   },
   "file_extension": ".py",
   "mimetype": "text/x-python",
   "name": "python",
   "nbconvert_exporter": "python",
   "pygments_lexer": "ipython3",
   "version": "3.8.5"
  }
 },
 "nbformat": 4,
 "nbformat_minor": 4
}
